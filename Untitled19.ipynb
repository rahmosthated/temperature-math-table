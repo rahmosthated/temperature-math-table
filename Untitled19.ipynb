{
  "nbformat": 4,
  "nbformat_minor": 0,
  "metadata": {
    "colab": {
      "provenance": [],
      "authorship_tag": "ABX9TyN6+aWtHppqoXwGaL7crVFk",
      "include_colab_link": true
    },
    "kernelspec": {
      "name": "python3",
      "display_name": "Python 3"
    },
    "language_info": {
      "name": "python"
    }
  },
  "cells": [
    {
      "cell_type": "markdown",
      "metadata": {
        "id": "view-in-github",
        "colab_type": "text"
      },
      "source": [
        "<a href=\"https://colab.research.google.com/github/rahmosthated/temperature-math-table/blob/main/Untitled19.ipynb\" target=\"_parent\"><img src=\"https://colab.research.google.com/assets/colab-badge.svg\" alt=\"Open In Colab\"/></a>"
      ]
    },
    {
      "cell_type": "code",
      "source": [
        "# Define a function to convert Celsius to Fahrenheit\n",
        "def celsius_to_fahrenheit(celsius):\n",
        "    \"\"\"\n",
        "    This function takes a temperature in Celsius\n",
        "    and returns the equivalent temperature in Fahrenheit.\n",
        "    \"\"\"\n",
        "\n",
        "    # Formula to convert Celsius to Fahrenheit: (C × 9/5) + 32\n",
        "    fahrenheit = (celsius * 9 / 5) + 32\n",
        "\n",
        "    # Return the converted temperature\n",
        "    return fahrenheit\n",
        "\n",
        "# --- Function Calls ---\n",
        "\n",
        "# Call the function with 0°C and store the result\n",
        "temp1 = celsius_to_fahrenheit(0)  # Expected: 32.0°F\n",
        "\n",
        "# Call the function with 25°C and store the result\n",
        "temp2 = celsius_to_fahrenheit(25)  # Expected: 77.0°F\n",
        "\n",
        "# Call the function with 100°C and store the result\n",
        "temp3 = celsius_to_fahrenheit(100)  # Expected: 212.0°F\n",
        "\n",
        "# --- Output the Results ---\n",
        "\n",
        "# Print each conversion to verify it's working as expected\n",
        "print(f\"0°C = {temp1}°F\")       # Output: 0°C = 32.0°F\n",
        "print(f\"25°C = {temp2}°F\")      # Output: 25°C = 77.0°F\n",
        "print(f\"100°C = {temp3}°F\")     # Output: 100°C = 212.0°F\n",
        "\n",
        "#tested this by inputing 0 c and got the output of 32.\n",
        "\n"
      ],
      "metadata": {
        "colab": {
          "base_uri": "https://localhost:8080/"
        },
        "id": "CEkemfVbeUdV",
        "outputId": "52665ee2-669e-4c22-fab3-d033c9de7810"
      },
      "execution_count": 3,
      "outputs": [
        {
          "output_type": "stream",
          "name": "stdout",
          "text": [
            "0°C = 32.0°F\n",
            "25°C = 77.0°F\n",
            "100°C = 212.0°F\n"
          ]
        }
      ]
    }
  ]
}