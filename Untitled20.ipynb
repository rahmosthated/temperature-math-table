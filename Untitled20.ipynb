{
  "nbformat": 4,
  "nbformat_minor": 0,
  "metadata": {
    "colab": {
      "provenance": [],
      "authorship_tag": "ABX9TyPYuKEdaxp8zME4XSyebG1/",
      "include_colab_link": true
    },
    "kernelspec": {
      "name": "python3",
      "display_name": "Python 3"
    },
    "language_info": {
      "name": "python"
    }
  },
  "cells": [
    {
      "cell_type": "markdown",
      "metadata": {
        "id": "view-in-github",
        "colab_type": "text"
      },
      "source": [
        "<a href=\"https://colab.research.google.com/github/rahmosthated/temperature-math-table/blob/main/Untitled20.ipynb\" target=\"_parent\"><img src=\"https://colab.research.google.com/assets/colab-badge.svg\" alt=\"Open In Colab\"/></a>"
      ]
    },
    {
      "cell_type": "code",
      "source": [
        "# -----------------------------------------\n",
        "# Define a function to add two numbers\n",
        "# -----------------------------------------\n",
        "def add_numbers(a, b):\n",
        "    \"\"\"\n",
        "    This function takes two input values:\n",
        "    - a: the first number\n",
        "    - b: the second number\n",
        "\n",
        "    It returns the sum of a and b.\n",
        "    \"\"\"\n",
        "    # Add the two input numbers together and return the result\n",
        "    return a + b\n",
        "\n",
        "\n",
        "# -----------------------------------------\n",
        "# Call the function with different arguments\n",
        "# -----------------------------------------\n",
        "\n",
        "# Call the function with 5 and 10 as arguments\n",
        "# Expected result: 5 + 10 = 15\n",
        "sum1 = add_numbers(5, 10)\n",
        "\n",
        "# Call the function with -3 and 7 as arguments\n",
        "# Expected result: -3 + 7 = 4\n",
        "sum2 = add_numbers(-3, 7)\n",
        "\n",
        "# Call the function with 100 and 250 as arguments\n",
        "# Expected result: 100 + 250 = 350\n",
        "sum3 = add_numbers(100, 250)\n",
        "\n",
        "\n",
        "# -----------------------------------------\n",
        "# Print the results to verify everything works\n",
        "# -----------------------------------------\n",
        "\n",
        "print(f\"The sum of 5 and 10 is: {sum1}\")      # Output: 15\n",
        "print(f\"The sum of -3 and 7 is: {sum2}\")      # Output: 4\n",
        "print(f\"The sum of 100 and 250 is: {sum3}\")   # Output: 350\n"
      ],
      "metadata": {
        "id": "dJqzPXmCjc85"
      },
      "execution_count": null,
      "outputs": []
    }
  ]
}