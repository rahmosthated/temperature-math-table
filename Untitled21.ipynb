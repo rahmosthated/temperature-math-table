{
  "nbformat": 4,
  "nbformat_minor": 0,
  "metadata": {
    "colab": {
      "provenance": [],
      "authorship_tag": "ABX9TyMFpIW2Z07ahG98pQ+8MmpS",
      "include_colab_link": true
    },
    "kernelspec": {
      "name": "python3",
      "display_name": "Python 3"
    },
    "language_info": {
      "name": "python"
    }
  },
  "cells": [
    {
      "cell_type": "markdown",
      "metadata": {
        "id": "view-in-github",
        "colab_type": "text"
      },
      "source": [
        "<a href=\"https://colab.research.google.com/github/rahmosthated/temperature-math-table/blob/main/Untitled21.ipynb\" target=\"_parent\"><img src=\"https://colab.research.google.com/assets/colab-badge.svg\" alt=\"Open In Colab\"/></a>"
      ]
    },
    {
      "cell_type": "code",
      "execution_count": null,
      "metadata": {
        "id": "FJV8dj5N_PHP"
      },
      "outputs": [],
      "source": [
        "# ------------------------------------------\n",
        "# Stage 1: Generate a multiplication table using a for loop\n",
        "# ------------------------------------------\n",
        "\n",
        "# Ask the user to input a number\n",
        "# The input() function reads a value as a string, so we convert it to an integer using int()\n",
        "number = int(input(\"Enter a number to generate its multiplication table: \"))\n",
        "\n",
        "# Use a for loop to iterate through numbers 1 to 10\n",
        "# The range(1, 11) function generates numbers from 1 to 10 (11 is not included)\n",
        "for i in range(1, 11):\n",
        "    # Multiply the user's number by the current loop value (i)\n",
        "    # Print the result in a formatted way (e.g., \"5 x 2 = 10\")\n",
        "    print(f\"{number} x {i} = {number * i}\")\n",
        "# ------------------------------------------\n",
        "# Stage 2: Repeat the multiplication table using a while loop\n",
        "# ------------------------------------------\n",
        "\n",
        "# Start an infinite loop that we can exit when the user says \"no\"\n",
        "while True:\n",
        "    # Ask the user to input a number\n",
        "    # Convert the input from a string to an integer using int()\n",
        "    number = int(input(\"Enter a number to generate its multiplication table: \"))\n",
        "\n",
        "    # Use a for loop to generate the multiplication table for that number\n",
        "    # Loop through numbers 1 to 10\n",
        "    for i in range(1, 11):\n",
        "        # Multiply the user's number by the loop index and print it\n",
        "        print(f\"{number} x {i} = {number * i}\")\n",
        "\n",
        "    # After printing the table, ask the user if they want to generate another table\n",
        "    # Strip removes extra whitespace, lower() converts it to lowercase for reliable comparison\n",
        "    again = input(\"Do you want to generate another table? (yes/no): \").strip().lower()\n",
        "\n",
        "    # If the user types \"no\", break the loop to stop the program\n",
        "    if again == \"no\":\n",
        "        print(\"Goodbye!\")  # Print a farewell message\n",
        "        break  # Exit the while loop\n",
        "\n",
        "    # If the user enters anything else (e.g., \"yes\"), the loop repeats\n",
        "    # ------------------------------------------\n",
        "# Stage 3: Generate multiplication tables for multiple numbers using nested loops\n",
        "# ------------------------------------------\n",
        "\n",
        "# Start an infinite while loop to allow repeating the process\n",
        "while True:\n",
        "    # Prompt the user to input multiple numbers, separated by commas (e.g., \"2, 4, 7\")\n",
        "    user_input = input(\"Enter numbers separated by commas (e.g., 2, 5, 7): \")\n",
        "\n",
        "    # Convert the input string into a list of integers\n",
        "    # Step-by-step:\n",
        "    # - user_input.split(\",\") splits the string by commas into a list of strings\n",
        "    # - num.strip() removes extra spaces\n",
        "    # - int(...) converts each cleaned string to an integer\n",
        "    numbers = [int(num.strip()) for num in user_input.split(\",\")]\n",
        "\n",
        "    # Outer loop: go through each number in the list\n",
        "    for number in numbers:\n",
        "        # Print a header for this number’s multiplication table\n",
        "        print(f\"\\nMultiplication Table for {number}:\")\n",
        "\n",
        "        # Inner loop: generate the table for current number from 1 to 10\n",
        "        for i in range(1, 11):\n",
        "            result = number * i  # Calculate the product\n",
        "            print(f\"{number} x {i} = {result}\")  # Display the result\n",
        "\n",
        "    # After all tables have been printed, ask the user if they want to continue\n",
        "    again = input(\"\\nDo you want to generate more tables? (yes/no): \").strip().lower()\n",
        "\n",
        "    # If the user types \"no\", exit the loop and end the program\n",
        "    if again == \"no\":\n",
        "        print(\"Goodbye!\")  # Farewell message\n",
        "        break  # Exit the while loop\n",
        "\n",
        "    # If the user types anything else (e.g., \"yes\"), the loop restarts and asks for more input\n",
        "\n",
        "\n"
      ]
    }
  ]
}