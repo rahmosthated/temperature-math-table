{
  "nbformat": 4,
  "nbformat_minor": 0,
  "metadata": {
    "colab": {
      "provenance": [],
      "authorship_tag": "ABX9TyObfa7QoGAvEz2da/fXDure",
      "include_colab_link": true
    },
    "kernelspec": {
      "name": "python3",
      "display_name": "Python 3"
    },
    "language_info": {
      "name": "python"
    }
  },
  "cells": [
    {
      "cell_type": "markdown",
      "metadata": {
        "id": "view-in-github",
        "colab_type": "text"
      },
      "source": [
        "<a href=\"https://colab.research.google.com/github/rahmosthated/temperature-math-table/blob/main/Untitled24.ipynb\" target=\"_parent\"><img src=\"https://colab.research.google.com/assets/colab-badge.svg\" alt=\"Open In Colab\"/></a>"
      ]
    },
    {
      "cell_type": "code",
      "execution_count": null,
      "metadata": {
        "id": "J47pmoFheD5V"
      },
      "outputs": [],
      "source": [
        "# ---------------------------------------------\n",
        "# Define the function using 'def'\n",
        "# 'def' is a keyword used to start a function definition\n",
        "# 'favorite_color' is the name of the function\n",
        "# 'name' and 'color' are parameters that will receive values when the function is called\n",
        "def favorite_color(name, color):\n",
        "    \"\"\"\n",
        "    This function takes a person's name and their favorite color,\n",
        "    and returns a message describing their favorite color.\n",
        "    \"\"\"\n",
        "\n",
        "    # 'message' is a variable that stores the sentence we create\n",
        "    # 'f\"...{name}...\"' is an f-string → a special string in Python that allows you to insert variables directly inside it using {}\n",
        "    # The f-string creates a readable message that includes the name and color values\n",
        "    message = f\"{name}'s favorite color is {color}.\"\n",
        "\n",
        "    # 'return' is a keyword that sends the result back to where the function was called\n",
        "    # Here, it returns the message we just created\n",
        "    return message\n",
        "\n",
        "\n",
        "# ---------------------------------------------\n",
        "# Call the function 3 times with different arguments (name and color values)\n",
        "# 'favorite_color(\"Alice\", \"Blue\")' calls the function with \"Alice\" as name and \"Blue\" as color\n",
        "# The returned message is stored in a variable (message1), then printed\n",
        "message1 = favorite_color(\"Alice\", \"Blue\")  # \"Alice\" and \"Blue\" are arguments\n",
        "print(message1)  # 'print' is a built-in function that displays the output on the screen\n",
        "\n",
        "# Second test case with different inputs\n",
        "message2 = favorite_color(\"Jordan\", \"Green\")  # name = Jordan, color = Green\n",
        "print(message2)\n",
        "\n",
        "# Third test case\n",
        "message3 = favorite_color(\"Maya\", \"Purple\")\n",
        "print(message3)\n"
      ]
    }
  ]
}